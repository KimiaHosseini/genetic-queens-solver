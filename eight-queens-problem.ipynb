{
 "cells": [
  {
   "cell_type": "markdown",
   "id": "4e262310",
   "metadata": {},
   "source": [
    "### Import Libs"
   ]
  },
  {
   "cell_type": "code",
   "execution_count": 92,
   "id": "95d3f1324b0501e6",
   "metadata": {
    "collapsed": false
   },
   "outputs": [],
   "source": [
    "import matplotlib.pyplot as plt\n",
    "import numpy as np\n",
    "import random"
   ]
  },
  {
   "cell_type": "markdown",
   "id": "9da22522",
   "metadata": {},
   "source": [
    "### Create Individual"
   ]
  },
  {
   "cell_type": "code",
   "execution_count": 93,
   "id": "de1142d0",
   "metadata": {},
   "outputs": [],
   "source": [
    "def create_individual():\n",
    "    # TODO: create a random chromosome\n",
    "    individual = np.random.permutation(8)\n",
    "    return individual.tolist()"
   ]
  },
  {
   "cell_type": "markdown",
   "id": "4ce5eabe",
   "metadata": {},
   "source": [
    "### Generate Population"
   ]
  },
  {
   "cell_type": "code",
   "execution_count": 94,
   "id": "a66475735b552b41",
   "metadata": {
    "collapsed": false
   },
   "outputs": [],
   "source": [
    "def generate_population(population_size:int = 20):\n",
    "    population = []\n",
    "\n",
    "    for _ in range(population_size):\n",
    "        new_individual = create_individual()\n",
    "        population.append(new_individual)\n",
    "    \n",
    "    return population"
   ]
  },
  {
   "cell_type": "markdown",
   "id": "60e9083e",
   "metadata": {},
   "source": [
    "### Score Function"
   ]
  },
  {
   "cell_type": "code",
   "execution_count": 95,
   "id": "c5acf242",
   "metadata": {},
   "outputs": [],
   "source": [
    "def fitness_score(seq):\n",
    "    fit_score = 0\n",
    "    #TODO: calculate fitness score\n",
    "    n = len(seq)\n",
    "    non_attacking_pairs = 0\n",
    "    \n",
    "    for i in range(n):\n",
    "        for j in range(i + 1, n):\n",
    "            if seq[i] != seq[j] and abs(seq[i] - seq[j]) != abs(i - j):\n",
    "                non_attacking_pairs += 1\n",
    "    \n",
    "    max_pairs = n * (n - 1) // 2\n",
    "    fit_score = non_attacking_pairs / max_pairs\n",
    "    \n",
    "    return fit_score"
   ]
  },
  {
   "cell_type": "markdown",
   "id": "0d944dab",
   "metadata": {},
   "source": [
    "### Parent Selection"
   ]
  },
  {
   "cell_type": "code",
   "execution_count": 96,
   "id": "261340cc4efeca3",
   "metadata": {
    "collapsed": false
   },
   "outputs": [],
   "source": [
    "def tournament_selection(population, fitness_scores, k=3):\n",
    "    selected = []\n",
    "    \n",
    "    for _ in range(len(population)):\n",
    "        tournament = random.sample(list(zip(population, fitness_scores)), k)\n",
    "        best_individual = max(tournament, key=lambda x: x[1])[0]\n",
    "        selected.append(best_individual)\n",
    "    \n",
    "    return selected\n",
    "\n",
    "def parent_selection(population):\n",
    "    fitness_scores = [fitness_score(individual) for individual in population]\n",
    "    parents = tournament_selection(population, fitness_scores)\n",
    "    \n",
    "    return parents"
   ]
  },
  {
   "cell_type": "markdown",
   "id": "27e36374",
   "metadata": {},
   "source": [
    "### Crossover"
   ]
  },
  {
   "cell_type": "code",
   "execution_count": 97,
   "id": "00696afd",
   "metadata": {},
   "outputs": [],
   "source": [
    "def one_point_crossover(parent1, parent2):\n",
    "    crossover_point = random.randint(1, len(parent1) - 1)\n",
    "    \n",
    "    offspring1 = parent1[:crossover_point] + parent2[crossover_point:]\n",
    "    offspring2 = parent2[:crossover_point] + parent1[crossover_point:]\n",
    "    \n",
    "    return offspring1, offspring2\n",
    "\n",
    "def crossover(parents):\n",
    "    offsprings = []\n",
    "    num_parents = len(parents)\n",
    "    \n",
    "    random.shuffle(parents)\n",
    "    \n",
    "    for i in range(0, num_parents, 2):\n",
    "        parent1 = parents[i]\n",
    "        parent2 = parents[i + 1] if (i + 1) < num_parents else parents[0]\n",
    "        \n",
    "        offspring1, offspring2 = one_point_crossover(parent1, parent2)\n",
    "        offsprings.append(offspring1)\n",
    "        offsprings.append(offspring2)\n",
    "    \n",
    "    return offsprings"
   ]
  },
  {
   "cell_type": "markdown",
   "id": "cbf33d68",
   "metadata": {},
   "source": [
    "### Mutation"
   ]
  },
  {
   "cell_type": "code",
   "execution_count": 98,
   "id": "2fc0d8b5",
   "metadata": {},
   "outputs": [],
   "source": [
    "def mutate_sequence(seq):\n",
    "    mutation_rate=0.1\n",
    "    if random.random() < mutation_rate:\n",
    "        pos1 = random.randint(0, len(seq) - 1)\n",
    "        pos2 = random.randint(0, len(seq) - 1)\n",
    "        seq[pos1], seq[pos2] = seq[pos2], seq[pos1]\n",
    "    return seq\n",
    "\n",
    "def mutate(offsprings):\n",
    "    for i in range(len(offsprings)):\n",
    "        offsprings[i] = mutate_sequence(offsprings[i])\n",
    "    return offsprings"
   ]
  },
  {
   "cell_type": "markdown",
   "id": "6fb9539d",
   "metadata": {},
   "source": [
    "## Calculate Population Fitness"
   ]
  },
  {
   "cell_type": "code",
   "execution_count": 99,
   "id": "f8935d17",
   "metadata": {},
   "outputs": [],
   "source": [
    "def population_fitness(population):\n",
    "    population_fitness = 0\n",
    "    individuals_fitnesses:dict = {}\n",
    "    for chromosome in population:\n",
    "        fitness_sc = fitness_score(chromosome)\n",
    "        population_fitness += fitness_sc\n",
    "        temp = tuple(chromosome)\n",
    "        individuals_fitnesses[temp] = fitness_sc\n",
    "    return individuals_fitnesses ,population_fitness"
   ]
  },
  {
   "cell_type": "markdown",
   "id": "c6c4da1f",
   "metadata": {},
   "source": [
    "### Next Generation Selection"
   ]
  },
  {
   "cell_type": "code",
   "execution_count": 100,
   "id": "d22feb7e",
   "metadata": {},
   "outputs": [],
   "source": [
    "def next_generation_selection(current_population, children_population):\n",
    "    next_generation = []\n",
    "    #TODO: choose the next_generation\n",
    "    combined_population = current_population + children_population\n",
    "    individuals_fitnesses, _ = population_fitness(combined_population)\n",
    "    \n",
    "    sorted_individuals = sorted(individuals_fitnesses.items(), key=lambda item: item[1], reverse=True)\n",
    "    \n",
    "    next_generation = [list(individual[0]) for individual in sorted_individuals[:len(current_population)]]\n",
    "    \n",
    "    return next_generation   "
   ]
  },
  {
   "cell_type": "markdown",
   "id": "99b5facc",
   "metadata": {},
   "source": [
    "### Termination Condition"
   ]
  },
  {
   "cell_type": "code",
   "execution_count": 101,
   "id": "5f77977c",
   "metadata": {},
   "outputs": [],
   "source": [
    "def check_end(population) -> bool:\n",
    "    #TODO: check end of algorithm\n",
    "    for individual in population:\n",
    "        if fitness_score(individual) == 1.0:\n",
    "            return True\n",
    "    return False"
   ]
  },
  {
   "cell_type": "markdown",
   "id": "b223c1dc",
   "metadata": {},
   "source": [
    "### Run Your Algorithms"
   ]
  },
  {
   "cell_type": "code",
   "execution_count": 108,
   "id": "392ff74d8fb7ab3e",
   "metadata": {
    "collapsed": false
   },
   "outputs": [
    {
     "name": "stdout",
     "output_type": "stream",
     "text": [
      "Solution found in generation 23\n",
      "[0, 4, 7, 5, 2, 6, 1, 3]\n"
     ]
    }
   ],
   "source": [
    "# The genetic algorithm\n",
    "generation = 0\n",
    "solution_is_found = False\n",
    "fitness = []\n",
    "\n",
    "population = generate_population()\n",
    "individuals_fitnesses, total_population_fitness = population_fitness(population)\n",
    "\n",
    "while not check_end(population):\n",
    "    parents = parent_selection(population)\n",
    "    offsprings = crossover(parents)\n",
    "    mutated_offsprings = mutate(offsprings)\n",
    "    \n",
    "    individuals_fitnesses, total_population_fitness = population_fitness(mutated_offsprings)\n",
    "    population = next_generation_selection(population, mutated_offsprings)\n",
    "    \n",
    "    generation += 1\n",
    "    avg_fit = total_population_fitness / len(population)\n",
    "    fitness.append(avg_fit)\n",
    "\n",
    "\n",
    "print(f\"Solution found in generation {generation}\")\n",
    "solution = []\n",
    "for individual in population:\n",
    "    if fitness_score(individual) == 1.0:\n",
    "        print(individual)\n",
    "        solution = individual\n",
    "        break\n",
    "\n"
   ]
  },
  {
   "cell_type": "markdown",
   "id": "8f041099",
   "metadata": {},
   "source": [
    "### Show Chess Board"
   ]
  },
  {
   "cell_type": "code",
   "execution_count": 109,
   "id": "e65798a6",
   "metadata": {},
   "outputs": [
    {
     "data": {
      "image/png": "[encoded data removed]",
      "text/plain": [
       "<Figure size 640x480 with 1 Axes>"
      ]
     },
     "metadata": {},
     "output_type": "display_data"
    }
   ],
   "source": [
    "def plot_chessboard(solution):\n",
    "    board = np.zeros((8, 8, 3))\n",
    "    board[1::2, ::2] = 1\n",
    "    board[::2, 1::2] = 1\n",
    "\n",
    "    fig, ax = plt.subplots()\n",
    "    ax.imshow(board, extent=[0, 8, 0, 8])\n",
    "\n",
    "    for col, row in enumerate(solution):\n",
    "        ax.text(col + 0.5, 7.5 - row, '♛', ha='center', va='center', fontsize=32, color='red')\n",
    "\n",
    "    ax.set_xticks(np.arange(0.5, 8.5))\n",
    "    ax.set_yticks(np.arange(0.5, 8.5))\n",
    "    ax.set_xticklabels(['a', 'b', 'c', 'd', 'e', 'f', 'g', 'h'])\n",
    "    ax.set_yticklabels(np.arange(1, 9)[::-1])\n",
    "    ax.xaxis.tick_top()\n",
    "\n",
    "    ax.tick_params(length=0)\n",
    "    for edge in ['top', 'right', 'bottom', 'left']:\n",
    "        ax.spines[edge].set_visible(False)\n",
    "\n",
    "    plt.show()\n",
    "\n",
    "plot_chessboard(solution)"
   ]
  },
  {
   "cell_type": "markdown",
   "id": "174334b7",
   "metadata": {},
   "source": [
    "### See Your Progress Over Generations"
   ]
  },
  {
   "cell_type": "code",
   "execution_count": 110,
   "id": "62a19a5f372d7885",
   "metadata": {
    "collapsed": false
   },
   "outputs": [
    {
     "data": {
      "image/png": "[encoded data removed]",
      "text/plain": [
       "<Figure size 640x480 with 1 Axes>"
      ]
     },
     "metadata": {},
     "output_type": "display_data"
    }
   ],
   "source": [
    "plt.bar(range(generation), fitness, color='skyblue')\n",
    "plt.xlabel('Generation', fontsize=20)\n",
    "plt.ylabel('Average Fitness', fontsize=20)\n",
    "plt.title('Fitness over Generations', fontsize=20)\n",
    "plt.show()"
   ]
  },
  {
   "cell_type": "code",
   "execution_count": null,
   "id": "ac9d2a94",
   "metadata": {},
   "outputs": [],
   "source": []
  }
 ],
 "metadata": {
  "kernelspec": {
   "display_name": "Python 3",
   "language": "python",
   "name": "python3"
  },
  "language_info": {
   "codemirror_mode": {
    "name": "ipython",
    "version": 3
   },
   "file_extension": ".py",
   "mimetype": "text/x-python",
   "name": "python",
   "nbconvert_exporter": "python",
   "pygments_lexer": "ipython3",
   "version": "3.10.5"
  }
 },
 "nbformat": 4,
 "nbformat_minor": 5
}
